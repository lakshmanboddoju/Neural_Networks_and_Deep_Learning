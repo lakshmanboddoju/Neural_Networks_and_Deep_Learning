{
 "cells": [
  {
   "cell_type": "code",
   "execution_count": 16,
   "metadata": {},
   "outputs": [
    {
     "name": "stdout",
     "output_type": "stream",
     "text": [
      "v: \n",
      " [[1]\n",
      " [2]\n",
      " [3]\n",
      " [4]\n",
      " [5]] \n",
      "\n",
      "u: \n",
      " [[  2.71828183]\n",
      " [  7.3890561 ]\n",
      " [ 20.08553692]\n",
      " [ 54.59815003]\n",
      " [148.4131591 ]] \n",
      "\n",
      "log v: \n",
      " [[0.        ]\n",
      " [0.69314718]\n",
      " [1.09861229]\n",
      " [1.38629436]\n",
      " [1.60943791]] \n",
      "\n",
      "abs v: \n",
      " [[1]\n",
      " [2]\n",
      " [3]\n",
      " [4]\n",
      " [5]] \n",
      "\n",
      "max v: \n",
      " [[1]\n",
      " [2]\n",
      " [3]\n",
      " [4]\n",
      " [5]] \n",
      "\n",
      "v**2: \n",
      " [[ 1]\n",
      " [ 4]\n",
      " [ 9]\n",
      " [16]\n",
      " [25]] \n",
      "\n",
      "square v: \n",
      " [[ 1]\n",
      " [ 4]\n",
      " [ 9]\n",
      " [16]\n",
      " [25]] \n",
      "\n",
      "1/v: \n",
      " [[1.        ]\n",
      " [0.5       ]\n",
      " [0.33333333]\n",
      " [0.25      ]\n",
      " [0.2       ]] \n",
      "\n",
      "reciprocal v:  [[1]\n",
      " [0]\n",
      " [0]\n",
      " [0]\n",
      " [0]] \n",
      "\n"
     ]
    }
   ],
   "source": [
    "import numpy as np\n",
    "\n",
    "v = np.array([[1],\n",
    "              [2],\n",
    "              [3],\n",
    "              [4],\n",
    "              [5]])\n",
    "print(\"v: \\n\", v, \"\\n\")\n",
    "\n",
    "u = np.exp(v)\n",
    "print(\"u: \\n\", u, \"\\n\")\n",
    "\n",
    "print(\"log v: \\n\", np.log(v), \"\\n\")\n",
    "print(\"abs v: \\n\", np.abs(v), \"\\n\")\n",
    "print(\"max v: \\n\", np.maximum(v, 0), \"\\n\")\n",
    "print(\"v**2: \\n\", v**2,\"\\n\")\n",
    "print(\"square v: \\n\", np.square(v), \"\\n\")\n",
    "print(\"1/v: \\n\", (1/v),  \"\\n\")\n",
    "print(\"reciprocal v: \", np.reciprocal(v), \"\\n\")"
   ]
  },
  {
   "cell_type": "code",
   "execution_count": null,
   "metadata": {},
   "outputs": [],
   "source": []
  }
 ],
 "metadata": {
  "kernelspec": {
   "display_name": "Python 3",
   "language": "python",
   "name": "python3"
  },
  "language_info": {
   "codemirror_mode": {
    "name": "ipython",
    "version": 3
   },
   "file_extension": ".py",
   "mimetype": "text/x-python",
   "name": "python",
   "nbconvert_exporter": "python",
   "pygments_lexer": "ipython3",
   "version": "3.6.5"
  }
 },
 "nbformat": 4,
 "nbformat_minor": 2
}
